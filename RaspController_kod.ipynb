{
 "cells": [
  {
   "cell_type": "markdown",
   "id": "1badcc1f",
   "metadata": {},
   "source": [
    "### RaspController\n",
    "Nasla aplikaciju s kojom mozes ocitavat senzore i upravljat s outputima.<br>\n",
    "https://www.youtube.com/watch?v=lnHyVswZksM&t=315s<br>\n",
    "https://www.gallinaettore.com/android_apps/raspcontroller/user_widgets/<br>\n",
    "Sad bi ja napravila da mozes birat koje mape za zvuk ces koristit ili spojit RPi s bloototh zvucnikom i tako.\n",
    "Pa treba napravit custom widgete.<br>\n",
    "Po uputama koje sam vidjela na widgete se dosta lako ispisuju vrijednosti samo bi ja da se mogu gumbovi raditi i izbornici."
   ]
  },
  {
   "cell_type": "code",
   "execution_count": 1,
   "id": "19d12ccc",
   "metadata": {},
   "outputs": [
    {
     "name": "stdout",
     "output_type": "stream",
     "text": [
      "<result1>81</result1>\n",
      "<result2>82</result2>\n",
      "<result3>71</result3>\n"
     ]
    }
   ],
   "source": [
    "#!/usr/bin/python\n",
    "import random\n",
    "\n",
    "#Generating a string that contains a random number\n",
    "value1 = str(random.randint(0, 100))\n",
    "value2 = str(random.randint(0, 100))\n",
    "value3 = str(random.randint(0, 100))\n",
    "\n",
    "#Preparation of the result\n",
    "result1 = \"<result1>{}</result1>\".format(value1)\n",
    "result2 = \"<result2>{}</result2>\".format(value2)\n",
    "result3 = \"<result3>{}</result3>\".format(value3)\n",
    "\n",
    "#Print the result that will be read by the application\n",
    "print(result1)\n",
    "print(result2)\n",
    "print(result3)"
   ]
  },
  {
   "cell_type": "markdown",
   "id": "64fde537",
   "metadata": {},
   "source": [
    "### Flutter\n",
    "Mozda je bolje napravit aplikaciju u Flutteru, lakse cemo prilagodit onome st nama treba.<br>\n",
    "https://www.youtube.com/watch?v=6gFvmrpXols"
   ]
  },
  {
   "cell_type": "code",
   "execution_count": null,
   "id": "96fddfb0",
   "metadata": {},
   "outputs": [],
   "source": []
  }
 ],
 "metadata": {
  "kernelspec": {
   "display_name": "Python 3 (ipykernel)",
   "language": "python",
   "name": "python3"
  },
  "language_info": {
   "codemirror_mode": {
    "name": "ipython",
    "version": 3
   },
   "file_extension": ".py",
   "mimetype": "text/x-python",
   "name": "python",
   "nbconvert_exporter": "python",
   "pygments_lexer": "ipython3",
   "version": "3.10.6"
  }
 },
 "nbformat": 4,
 "nbformat_minor": 5
}
